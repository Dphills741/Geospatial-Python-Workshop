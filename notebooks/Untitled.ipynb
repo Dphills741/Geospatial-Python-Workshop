{
 "cells": [
  {
   "cell_type": "code",
   "execution_count": 159,
   "id": "a64dfd90",
   "metadata": {},
   "outputs": [],
   "source": [
    "from shapely.geometry import Point\n",
    "import pandas as pd\n",
    "import geopandas as gpd\n",
    "import matplotlib.pyplot as plt\n",
    "import folium\n",
    "from folium.plugins import MarkerCluster\n",
    "from folium.plugins import FastMarkerCluster"
   ]
  },
  {
   "cell_type": "code",
   "execution_count": 160,
   "id": "b4f0c526",
   "metadata": {},
   "outputs": [
    {
     "name": "stdout",
     "output_type": "stream",
     "text": [
      "(93, 6)\n"
     ]
    },
    {
     "data": {
      "text/html": [
       "<div>\n",
       "<style scoped>\n",
       "    .dataframe tbody tr th:only-of-type {\n",
       "        vertical-align: middle;\n",
       "    }\n",
       "\n",
       "    .dataframe tbody tr th {\n",
       "        vertical-align: top;\n",
       "    }\n",
       "\n",
       "    .dataframe thead th {\n",
       "        text-align: right;\n",
       "    }\n",
       "</style>\n",
       "<table border=\"1\" class=\"dataframe\">\n",
       "  <thead>\n",
       "    <tr style=\"text-align: right;\">\n",
       "      <th></th>\n",
       "      <th>Site Name</th>\n",
       "      <th>Address</th>\n",
       "      <th>City</th>\n",
       "      <th>Zip</th>\n",
       "      <th>Siren Power</th>\n",
       "      <th>Location</th>\n",
       "    </tr>\n",
       "  </thead>\n",
       "  <tbody>\n",
       "    <tr>\n",
       "      <th>0</th>\n",
       "      <td>Ezell Road Park</td>\n",
       "      <td>5135 Harding Place</td>\n",
       "      <td>Nashville</td>\n",
       "      <td>37211</td>\n",
       "      <td>Eclipse 8</td>\n",
       "      <td>(36.090944, -86.686028)</td>\n",
       "    </tr>\n",
       "    <tr>\n",
       "      <th>1</th>\n",
       "      <td>Sevier Park</td>\n",
       "      <td>3000 Granny White Pike</td>\n",
       "      <td>Nashville</td>\n",
       "      <td>37204</td>\n",
       "      <td>Eclipse 8</td>\n",
       "      <td>(36.118861, -86.787889)</td>\n",
       "    </tr>\n",
       "    <tr>\n",
       "      <th>2</th>\n",
       "      <td>Fannie May Dees Park</td>\n",
       "      <td>2401 Blakemore Ave</td>\n",
       "      <td>Nashville</td>\n",
       "      <td>37212</td>\n",
       "      <td>Eclipse 8</td>\n",
       "      <td>(36.136167, -86.8055)</td>\n",
       "    </tr>\n",
       "  </tbody>\n",
       "</table>\n",
       "</div>"
      ],
      "text/plain": [
       "              Site Name                 Address       City    Zip Siren Power  \\\n",
       "0       Ezell Road Park      5135 Harding Place  Nashville  37211   Eclipse 8   \n",
       "1           Sevier Park  3000 Granny White Pike  Nashville  37204   Eclipse 8   \n",
       "2  Fannie May Dees Park      2401 Blakemore Ave  Nashville  37212   Eclipse 8   \n",
       "\n",
       "                  Location  \n",
       "0  (36.090944, -86.686028)  \n",
       "1  (36.118861, -86.787889)  \n",
       "2    (36.136167, -86.8055)  "
      ]
     },
     "execution_count": 160,
     "metadata": {},
     "output_type": "execute_result"
    }
   ],
   "source": [
    "tornado_sirens = pd.read_csv('../data/Tornado_Siren_locations.csv')\n",
    "print(tornado_sirens.shape)\n",
    "tornado_sirens.head(3)"
   ]
  },
  {
   "cell_type": "code",
   "execution_count": 161,
   "id": "b18f8f84",
   "metadata": {},
   "outputs": [],
   "source": [
    "result=tornado_sirens['Location'].str.strip('()')                               \\\n",
    "                   .str.split(', ', expand=True)                   \\\n",
    "                   .rename(columns={0:'Lat', 1:'Lng'}) \n"
   ]
  },
  {
   "cell_type": "code",
   "execution_count": 162,
   "id": "aebece76",
   "metadata": {},
   "outputs": [],
   "source": [
    "tornado_sirens = pd.concat([tornado_sirens , result], axis=1, join='inner')"
   ]
  },
  {
   "cell_type": "code",
   "execution_count": 163,
   "id": "98569dcf",
   "metadata": {},
   "outputs": [
    {
     "data": {
      "text/plain": [
       "Site Name      object\n",
       "Address        object\n",
       "City           object\n",
       "Zip             int64\n",
       "Siren Power    object\n",
       "Location       object\n",
       "Lat            object\n",
       "Lng            object\n",
       "dtype: object"
      ]
     },
     "execution_count": 163,
     "metadata": {},
     "output_type": "execute_result"
    }
   ],
   "source": [
    "tornado_sirens.dtypes\n"
   ]
  },
  {
   "cell_type": "code",
   "execution_count": 164,
   "id": "b1984d9c",
   "metadata": {},
   "outputs": [],
   "source": [
    "tornado_sirens[\"Lat\"] = tornado_sirens[\"Lat\"].astype(\"float64\")"
   ]
  },
  {
   "cell_type": "code",
   "execution_count": 165,
   "id": "bf3ff13d",
   "metadata": {},
   "outputs": [],
   "source": [
    "tornado_sirens[\"Lng\"] = tornado_sirens[\"Lng\"].astype(\"float64\")"
   ]
  },
  {
   "cell_type": "code",
   "execution_count": 166,
   "id": "6a4868f4",
   "metadata": {},
   "outputs": [
    {
     "data": {
      "text/plain": [
       "Site Name       object\n",
       "Address         object\n",
       "City            object\n",
       "Zip              int64\n",
       "Siren Power     object\n",
       "Location        object\n",
       "Lat            float64\n",
       "Lng            float64\n",
       "dtype: object"
      ]
     },
     "execution_count": 166,
     "metadata": {},
     "output_type": "execute_result"
    }
   ],
   "source": [
    "tornado_sirens.dtypes"
   ]
  },
  {
   "cell_type": "code",
   "execution_count": 167,
   "id": "6dd72738",
   "metadata": {},
   "outputs": [
    {
     "data": {
      "text/html": [
       "<div>\n",
       "<style scoped>\n",
       "    .dataframe tbody tr th:only-of-type {\n",
       "        vertical-align: middle;\n",
       "    }\n",
       "\n",
       "    .dataframe tbody tr th {\n",
       "        vertical-align: top;\n",
       "    }\n",
       "\n",
       "    .dataframe thead th {\n",
       "        text-align: right;\n",
       "    }\n",
       "</style>\n",
       "<table border=\"1\" class=\"dataframe\">\n",
       "  <thead>\n",
       "    <tr style=\"text-align: right;\">\n",
       "      <th></th>\n",
       "      <th>Site Name</th>\n",
       "      <th>Address</th>\n",
       "      <th>City</th>\n",
       "      <th>Zip</th>\n",
       "      <th>Siren Power</th>\n",
       "      <th>Location</th>\n",
       "      <th>Lat</th>\n",
       "      <th>Lng</th>\n",
       "      <th>geometry</th>\n",
       "    </tr>\n",
       "  </thead>\n",
       "  <tbody>\n",
       "    <tr>\n",
       "      <th>0</th>\n",
       "      <td>Ezell Road Park</td>\n",
       "      <td>5135 Harding Place</td>\n",
       "      <td>Nashville</td>\n",
       "      <td>37211</td>\n",
       "      <td>Eclipse 8</td>\n",
       "      <td>(36.090944, -86.686028)</td>\n",
       "      <td>36.090944</td>\n",
       "      <td>-86.686028</td>\n",
       "      <td>POINT (-86.68602799999999 36.090944)</td>\n",
       "    </tr>\n",
       "    <tr>\n",
       "      <th>1</th>\n",
       "      <td>Sevier Park</td>\n",
       "      <td>3000 Granny White Pike</td>\n",
       "      <td>Nashville</td>\n",
       "      <td>37204</td>\n",
       "      <td>Eclipse 8</td>\n",
       "      <td>(36.118861, -86.787889)</td>\n",
       "      <td>36.118861</td>\n",
       "      <td>-86.787889</td>\n",
       "      <td>POINT (-86.78788900000001 36.118861)</td>\n",
       "    </tr>\n",
       "    <tr>\n",
       "      <th>2</th>\n",
       "      <td>Fannie May Dees Park</td>\n",
       "      <td>2401 Blakemore Ave</td>\n",
       "      <td>Nashville</td>\n",
       "      <td>37212</td>\n",
       "      <td>Eclipse 8</td>\n",
       "      <td>(36.136167, -86.8055)</td>\n",
       "      <td>36.136167</td>\n",
       "      <td>-86.805500</td>\n",
       "      <td>POINT (-86.80549999999999 36.136167)</td>\n",
       "    </tr>\n",
       "  </tbody>\n",
       "</table>\n",
       "</div>"
      ],
      "text/plain": [
       "              Site Name                 Address       City    Zip Siren Power  \\\n",
       "0       Ezell Road Park      5135 Harding Place  Nashville  37211   Eclipse 8   \n",
       "1           Sevier Park  3000 Granny White Pike  Nashville  37204   Eclipse 8   \n",
       "2  Fannie May Dees Park      2401 Blakemore Ave  Nashville  37212   Eclipse 8   \n",
       "\n",
       "                  Location        Lat        Lng  \\\n",
       "0  (36.090944, -86.686028)  36.090944 -86.686028   \n",
       "1  (36.118861, -86.787889)  36.118861 -86.787889   \n",
       "2    (36.136167, -86.8055)  36.136167 -86.805500   \n",
       "\n",
       "                               geometry  \n",
       "0  POINT (-86.68602799999999 36.090944)  \n",
       "1  POINT (-86.78788900000001 36.118861)  \n",
       "2  POINT (-86.80549999999999 36.136167)  "
      ]
     },
     "execution_count": 167,
     "metadata": {},
     "output_type": "execute_result"
    }
   ],
   "source": [
    "tornado_sirens['geometry'] = tornado_sirens.apply(lambda x: Point((x.Lng, \n",
    "                                                         x.Lat)), \n",
    "                                        axis=1)\n",
    "tornado_sirens.head(3)"
   ]
  },
  {
   "cell_type": "code",
   "execution_count": null,
   "id": "1b815926",
   "metadata": {},
   "outputs": [],
   "source": []
  },
  {
   "cell_type": "code",
   "execution_count": null,
   "id": "6b6fb036",
   "metadata": {},
   "outputs": [],
   "source": []
  }
 ],
 "metadata": {
  "kernelspec": {
   "display_name": "Python 3 (ipykernel)",
   "language": "python",
   "name": "python3"
  },
  "language_info": {
   "codemirror_mode": {
    "name": "ipython",
    "version": 3
   },
   "file_extension": ".py",
   "mimetype": "text/x-python",
   "name": "python",
   "nbconvert_exporter": "python",
   "pygments_lexer": "ipython3",
   "version": "3.8.5"
  }
 },
 "nbformat": 4,
 "nbformat_minor": 5
}
